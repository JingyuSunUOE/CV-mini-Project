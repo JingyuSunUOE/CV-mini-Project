{
 "cells": [
  {
   "metadata": {},
   "cell_type": "markdown",
   "source": "Process files",
   "id": "774a2e8319fa218f"
  },
  {
   "metadata": {
    "ExecuteTime": {
     "end_time": "2025-02-22T14:17:41.255157Z",
     "start_time": "2025-02-22T14:17:41.245189Z"
    }
   },
   "cell_type": "code",
   "source": [
    "import os\n",
    "import numpy as np\n",
    "from PIL import Image\n",
    "\n",
    "# Define cat and dog breeds\n",
    "cat_breeds = {\n",
    "    'Abyssinian', 'Bengal', 'Birman', 'Bombay', 'British_Shorthair', 'Egyptian_Mau',\n",
    "    'Maine_Coon', 'Persian', 'Ragdoll', 'Russian_Blue', 'Siamese', 'Sphynx'\n",
    "}\n",
    "\n",
    "dog_breeds = {\n",
    "    'american_bulldog', 'american_pit_bull_terrier', 'basset_hound', 'beagle', 'boxer',\n",
    "    'chihuahua', 'english_cocker_spaniel', 'english_setter', 'german_shorthaired',\n",
    "    'great_pyrenees', 'havanese', 'japanese_chin', 'keeshond', 'leonberger',\n",
    "    'miniature_pinscher', 'newfoundland', 'pomeranian', 'pug', 'saint_bernard',\n",
    "    'samoyed', 'scottish_terrier', 'shiba_inu', 'staffordshire_bull_terrier',\n",
    "    'wheaten_terrier', 'yorkshire_terrier'\n",
    "}\n",
    "\n",
    "def process_file(source_dir, destination_dir, file_format, is_mask=False):\n",
    "    \"\"\"\n",
    "    source_dir: Source image directory\n",
    "    destination_dir: Output save directory\n",
    "    file_format: The file extension to process, such as \".jpg\" or \".png\"\n",
    "    is_mask: Whether it is mask data. When True, process the mask image (single channel required), otherwise process the normal image (RGB three channels required).\n",
    "    \"\"\"\n",
    "\n",
    "    # Whether you are processing normal images or mask images, you need to create subdirectories according to the type\n",
    "    for breed in cat_breeds:\n",
    "        os.makedirs(os.path.join(destination_dir, \"cat\", breed), exist_ok=True)\n",
    "    for breed in dog_breeds:\n",
    "        os.makedirs(os.path.join(destination_dir, \"dog\", breed), exist_ok=True)\n",
    "\n",
    "    # Check if the source directory exists\n",
    "    if not os.path.exists(source_dir):\n",
    "        print(f\"❌ Error: Source directory '{source_dir}' does not exist.\")\n",
    "        exit(1)\n",
    "\n",
    "    all_files = os.listdir(source_dir)\n",
    "    if not all_files:\n",
    "        print(f\"⚠️ Warning: No files found in '{source_dir}'. Check your dataset.\")\n",
    "        exit(1)\n",
    "\n",
    "    copied_files = 0\n",
    "    for file in all_files:\n",
    "        if not file.lower().endswith(file_format):\n",
    "            continue\n",
    "\n",
    "        # Extract the breed name (assuming the file name format is breedName_XXXX.xxx)\n",
    "        breed_name = file.rsplit(\"_\", 1)[0]\n",
    "        source_path = os.path.join(source_dir, file)\n",
    "        try:\n",
    "            image = Image.open(source_path)\n",
    "\n",
    "            if is_mask:\n",
    "                # Mask image: Convert to grayscale mode\n",
    "                image = image.convert('L')\n",
    "                image_array = np.array(image)\n",
    "                # If it is two-dimensional, add a channel dimension (H, W) -> (H, W, 1)\n",
    "                if image_array.ndim == 2:\n",
    "                    image_array = np.expand_dims(image_array, axis=-1)\n",
    "            else:\n",
    "                # Normal image: Convert to RGB format (automatically discard the alpha channel)\n",
    "                if image.mode != 'RGB':\n",
    "                    image = image.convert('RGB')\n",
    "                image_array = np.array(image)\n",
    "                # If it is still four channels, explicitly discard the alpha channel\n",
    "                if image_array.ndim == 3 and image_array.shape[2] == 4:\n",
    "                    image_array = image_array[:, :, :3]\n",
    "\n",
    "            # Check if the shape of the image array meets the requirements (H, W, C)\n",
    "            expected_channels = 1 if is_mask else 3\n",
    "            if image_array.ndim != 3 or image_array.shape[2] != expected_channels:\n",
    "                print(f\"⚠️ Warning: {file} does not have expected shape (H, W, {expected_channels}). Skipping...\")\n",
    "                continue\n",
    "\n",
    "            # Build the .npy file name and output path (stored in the corresponding cat or dog directory according to the breed\n",
    "            npy_filename = file.replace(file_format, \".npy\")\n",
    "            if breed_name in cat_breeds:\n",
    "                npy_path = os.path.join(destination_dir, \"cat\", breed_name, npy_filename)\n",
    "            elif breed_name in dog_breeds:\n",
    "                npy_path = os.path.join(destination_dir, \"dog\", breed_name, npy_filename)\n",
    "            else:\n",
    "                print(f\"⚠️ Warning: Unknown breed '{breed_name}' in {file}, skipping...\")\n",
    "                continue\n",
    "\n",
    "            np.save(npy_path, image_array)\n",
    "            copied_files += 1\n",
    "            # print(f\"✅ Converted {file} → {npy_path}\")\n",
    "\n",
    "        except Exception as e:\n",
    "            print(f\"❌ Error processing {file}: {e}\")\n",
    "\n",
    "    if copied_files > 0:\n",
    "        print(f\"🎉 Successfully converted {copied_files} files to .npy format!\")\n",
    "    else:\n",
    "        print(\"⚠️ No files were processed. Check for errors above.\")\n",
    "\n",
    "\n"
   ],
   "id": "6f763bd125c0942c",
   "outputs": [],
   "execution_count": 7
  },
  {
   "metadata": {},
   "cell_type": "markdown",
   "source": "run the function",
   "id": "16c8585cbcee72c6"
  },
  {
   "metadata": {
    "ExecuteTime": {
     "end_time": "2025-02-22T14:17:41.270596Z",
     "start_time": "2025-02-22T14:17:41.262305Z"
    }
   },
   "cell_type": "code",
   "source": [
    "# Define source and destination directories\n",
    "train_color = \"Dataset/Dataset/TrainVal/color/\"\n",
    "train_image = \"new_dataset/train/image\"\n",
    "\n",
    "train_label = \"Dataset/Dataset/TrainVal/label/\"\n",
    "train_mask = \"new_dataset/train/mask\"\n",
    "\n",
    "test_color = \"Dataset/Dataset/Test/color/\"\n",
    "test_image = \"new_dataset/test/image\"\n",
    "\n",
    "test_label = \"Dataset/Dataset/Test/label/\"\n",
    "test_mask = \"new_dataset/test/mask\"\n"
   ],
   "id": "9ba7d535613b10d1",
   "outputs": [],
   "execution_count": 8
  },
  {
   "metadata": {
    "ExecuteTime": {
     "end_time": "2025-02-22T14:17:49.106103Z",
     "start_time": "2025-02-22T14:17:41.287248Z"
    }
   },
   "cell_type": "code",
   "source": [
    "# Process the training images\n",
    "process_file(train_color, train_image, \".jpg\", is_mask=False)"
   ],
   "id": "89f65db3f971b36c",
   "outputs": [
    {
     "name": "stdout",
     "output_type": "stream",
     "text": [
      "🎉 Successfully converted 3680 files to .npy format!\n"
     ]
    }
   ],
   "execution_count": 9
  },
  {
   "metadata": {
    "ExecuteTime": {
     "end_time": "2025-02-22T14:17:51.972174Z",
     "start_time": "2025-02-22T14:17:49.122072Z"
    }
   },
   "cell_type": "code",
   "source": [
    "# Process the training labels\n",
    "process_file(train_label, train_mask, \".png\", is_mask=True)"
   ],
   "id": "34965be332aa35df",
   "outputs": [
    {
     "name": "stdout",
     "output_type": "stream",
     "text": [
      "🎉 Successfully converted 3680 files to .npy format!\n"
     ]
    }
   ],
   "execution_count": 10
  },
  {
   "metadata": {
    "ExecuteTime": {
     "end_time": "2025-02-22T14:17:59.988236Z",
     "start_time": "2025-02-22T14:17:52.000499Z"
    }
   },
   "cell_type": "code",
   "source": [
    "# Process the test images\n",
    "process_file(test_color, test_image, \".jpg\", is_mask=False)"
   ],
   "id": "fe9ef8564fbb62dd",
   "outputs": [
    {
     "name": "stdout",
     "output_type": "stream",
     "text": [
      "🎉 Successfully converted 3710 files to .npy format!\n"
     ]
    }
   ],
   "execution_count": 11
  },
  {
   "metadata": {
    "ExecuteTime": {
     "end_time": "2025-02-22T14:18:02.921646Z",
     "start_time": "2025-02-22T14:18:00.005147Z"
    }
   },
   "cell_type": "code",
   "source": [
    "# Process the test labels\n",
    "process_file(test_label, test_mask, \".png\", is_mask=True)"
   ],
   "id": "bd60635e6e7a75ae",
   "outputs": [
    {
     "name": "stdout",
     "output_type": "stream",
     "text": [
      "🎉 Successfully converted 3710 files to .npy format!\n"
     ]
    }
   ],
   "execution_count": 12
  }
 ],
 "metadata": {
  "kernelspec": {
   "display_name": "Python 3",
   "language": "python",
   "name": "python3"
  },
  "language_info": {
   "codemirror_mode": {
    "name": "ipython",
    "version": 2
   },
   "file_extension": ".py",
   "mimetype": "text/x-python",
   "name": "python",
   "nbconvert_exporter": "python",
   "pygments_lexer": "ipython2",
   "version": "2.7.6"
  }
 },
 "nbformat": 4,
 "nbformat_minor": 5
}
